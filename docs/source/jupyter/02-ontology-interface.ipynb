{
 "cells": [
  {
   "cell_type": "markdown",
   "metadata": {},
   "source": [
    "# Tutorial 02: Ontology Interface\n",
    "\n",
    "This tutorial introduces the interface to the installed ontologies. The code presented is based on [this example](#). If you want to create your own ontology please refer to [this guide](../yaml_spec.md)."
   ]
  },
  {
   "cell_type": "markdown",
   "metadata": {},
   "source": [
    "## Background"
   ]
  },
  {
   "cell_type": "markdown",
   "metadata": {},
   "source": [
    "In the previous tutorial we have discussed the CUDS API. CUDS objects correspond to ontology individuals. In this tutorial we present the API of all other entities: ontology classes, relationships and attributes. These are defined in an ontology file in [YAML format](../yaml_spec.md). With the presented API you can access the entities and navigate within an ontology."
   ]
  },
  {
   "cell_type": "markdown",
   "metadata": {},
   "source": [
    "## Preliminaries"
   ]
  },
  {
   "cell_type": "code",
   "execution_count": null,
   "metadata": {},
   "outputs": [],
   "source": [
    "# If you did not install the CITY ontology\n",
    "# you have to execute these commands first:\n",
    "from osp.core import Parser\n",
    "p = Parser()\n",
    "p.parse(\"city\")"
   ]
  },
  {
   "cell_type": "markdown",
   "metadata": {},
   "source": [
    "## Accessing entities\n",
    "\n",
    "First, we want to acces the entities in the ontology. For that, we need to know the installed ontology namespaces. The namespace is stated at the top of the ontology YAML files:\n",
    "\n",
    "```yaml\n",
    "---\n",
    "version: \"0.0.3\"\n",
    "\n",
    "namespace: \"CITY\"\n",
    "\n",
    "ontology:\n",
    "   ...\n",
    "```\n",
    "\n",
    "Knowing the name of the namespace, we can import it in python. With the namespace python object we can access the entities within the namespace:"
   ]
  },
  {
   "cell_type": "code",
   "execution_count": 1,
   "metadata": {},
   "outputs": [
    {
     "name": "stdout",
     "output_type": "stream",
     "text": [
      "\n",
      "You can use UPPERCASE and lowercase to access a namespace\n",
      "True\n",
      "\n",
      "You can use the namespace to access its entities\n",
      "CITY.LIVING_BEING\n",
      "\n",
      "You can use UPPERCASE, lowercase or CamelCase to access entities\n",
      "True\n",
      "\n",
      "You can also use index notation\n",
      "True\n",
      "\n",
      "You can access the namespace of an entity\n",
      "True\n"
     ]
    }
   ],
   "source": [
    "from osp.core import city, CITY  # This imports the namespace city\n",
    "\n",
    "print(\"\\nYou can use UPPERCASE and lowercase to access a namespace\")\n",
    "print(city is CITY)\n",
    "\n",
    "print(\"\\nYou can use the namespace to access its entities\")\n",
    "print(city.living_being)\n",
    "\n",
    "print(\"\\nYou can use UPPERCASE, lowercase or CamelCase to access entities\")\n",
    "print(city.living_being is city.LIVING_BEING is city.LivingBeing)\n",
    "\n",
    "print(\"\\nYou can also use index notation\")\n",
    "print(city.living_being is city[\"living_being\"])\n",
    "\n",
    "print(\"\\nYou can access the namespace of an entity\")\n",
    "print(city is city.LivingBeing.namespace)"
   ]
  },
  {
   "cell_type": "markdown",
   "metadata": {},
   "source": [
    "## Accessing super- and subclasses\n",
    "\n",
    "Using the properties `superclasses` and `subclasses` it is easy to navigate the ontology. Direct superclasses and subclasses can also be accessed:"
   ]
  },
  {
   "cell_type": "code",
   "execution_count": 2,
   "metadata": {},
   "outputs": [
    {
     "name": "stdout",
     "output_type": "stream",
     "text": [
      "\n",
      "You can access the superclasses and the subclasses\n",
      "[<OntologyClass CITY.LIVING_BEING>, <OntologyClass CUBA.ENTITY>]\n",
      "[<OntologyClass CITY.LIVING_BEING>, <OntologyClass CITY.PERSON>, <OntologyClass CITY.CITIZEN>]\n",
      "\n",
      "You can access the direct superclasses and subclasses\n",
      "[<OntologyClass CUBA.ENTITY>]\n",
      "[<OntologyClass CITY.PERSON>]\n",
      "\n",
      "You can access a description of the entities\n",
      "A being that lives\n",
      "\n",
      "You can test if one entity is a subclass / superclass of another\n",
      "True\n",
      "True\n"
     ]
    }
   ],
   "source": [
    "print(\"\\nYou can access the superclasses and the subclasses\")\n",
    "print(city.LivingBeing.superclasses)\n",
    "print(city.LivingBeing.subclasses)\n",
    "\n",
    "print(\"\\nYou can access the direct superclasses and subclasses\")\n",
    "print(city.LivingBeing.direct_superclasses)\n",
    "print(city.LivingBeing.direct_subclasses)\n",
    "\n",
    "print(\"\\nYou can access a description of the entities\")\n",
    "print(city.LivingBeing.description)\n",
    "\n",
    "print(\"\\nYou can test if one entity is a subclass / superclass of another\")\n",
    "print(city.Person.is_subclass_of(city.LivingBeing))\n",
    "print(city.LivingBeing.is_superclass_of(city.Person))"
   ]
  },
  {
   "cell_type": "markdown",
   "metadata": {},
   "source": [
    "## Access entities using a string\n",
    "\n",
    "Sometimes you only have a string refering to an entity. Using the `get_entity` function you can get the corresponding python object easily:"
   ]
  },
  {
   "cell_type": "code",
   "execution_count": 3,
   "metadata": {},
   "outputs": [
    {
     "name": "stdout",
     "output_type": "stream",
     "text": [
      "\n",
      "You can get an entity from a string\n",
      "CITY.LIVING_BEING\n",
      "True\n"
     ]
    }
   ],
   "source": [
    "from osp.core import get_entity  # noqa: E402\n",
    "\n",
    "print(\"\\nYou can get an entity from a string\")\n",
    "print(get_entity(\"city.LivingBeing\"))\n",
    "print(get_entity(\"city.LivingBeing\") is city.LivingBeing)"
   ]
  },
  {
   "cell_type": "markdown",
   "metadata": {},
   "source": [
    "## Testing the type of the entities\n",
    "\n",
    "In the OSP core YAML ontology files three types of entities can be defined: classes, relationships and attributes. Relationships are subclasses of CUBA.RELATIONSHIP and attributes are subclasses of CUBA.ATTRIBUTE. There are different Python objects for the different entity types. You can use both to check which type of entity you are dealing with:"
   ]
  },
  {
   "cell_type": "code",
   "execution_count": 4,
   "metadata": {},
   "outputs": [
    {
     "name": "stdout",
     "output_type": "stream",
     "text": [
      "\n",
      "You can test if an entity is a class\n",
      "True\n",
      "True\n",
      "\n",
      "You can test if an entity is a relationship\n",
      "True\n",
      "True\n",
      "\n",
      "You can test if an entity is an attribute\n",
      "True\n",
      "True\n"
     ]
    }
   ],
   "source": [
    "# CUBA namespace\n",
    "# This is the main namespace that is always available\n",
    "from osp.core import cuba  # noqa: E402\n",
    "\n",
    "# These are the classes for the ontology entities\n",
    "from osp.core.ontology import (  # noqa: F401, E402\n",
    "      OntologyEntity,\n",
    "      OntologyClass,\n",
    "      OntologyRelationship,\n",
    "      OntologyAttribute\n",
    ")\n",
    "\n",
    "print(\"\\nYou can test if an entity is a class\")\n",
    "print(isinstance(city.LivingBeing, OntologyClass))\n",
    "print(not city.LivingBeing.is_subclass_of(cuba.Relationship)\n",
    "      and not city.LivingBeing.is_subclass_of(cuba.Attribute))\n",
    "\n",
    "print(\"\\nYou can test if an entity is a relationship\")\n",
    "print(isinstance(city.HasInhabitant, OntologyRelationship))\n",
    "print(city.HasInhabitant.is_subclass_of(cuba.Relationship))\n",
    "\n",
    "print(\"\\nYou can test if an entity is an attribute\")\n",
    "print(isinstance(city.Name, OntologyAttribute))\n",
    "print(city.Name.is_subclass_of(cuba.Attribute))\n"
   ]
  },
  {
   "cell_type": "markdown",
   "metadata": {},
   "source": [
    "## Operations specific to ontology classes\n",
    "\n",
    "The different types of entities differ in the operations they offer. For classes, you can access the attributes:"
   ]
  },
  {
   "cell_type": "code",
   "execution_count": 5,
   "metadata": {},
   "outputs": [
    {
     "name": "stdout",
     "output_type": "stream",
     "text": [
      "\n",
      "You can get the attributes of an ontology class and their defaults\n",
      "{<OntologyAttribute CITY.NAME>: 'John Smith', <OntologyAttribute CITY.AGE>: 25}\n",
      "\n",
      "You can get the non-inherited attributes and their defaults\n",
      "{<OntologyAttribute CITY.NAME>: 'John Smith', <OntologyAttribute CITY.AGE>: 25}\n",
      "\n",
      "Further interesting properties:\n",
      "\n",
      "Subclass of: ['CUBA.ENTITY', 'CITY.IS_CHILD_OF 0-2 CITY.LIVING_BEING']\n",
      "\n",
      "Equivalent to: []\n",
      "\n",
      "Disjoint with: []\n"
     ]
    }
   ],
   "source": [
    "print(\"\\nYou can get the attributes of an ontology class and their defaults\")\n",
    "print(city.Citizen.attributes)\n",
    "\n",
    "print(\"\\nYou can get the non-inherited attributes and their defaults\")\n",
    "print(city.LivingBeing.own_attributes)\n",
    "\n",
    "print(\"\\nFurther interesting properties:\")\n",
    "print(\"\\nSubclass of:\",\n",
    "      list(map(str, city.LivingBeing.subclass_of_expressions)))\n",
    "print(\"\\nEquivalent to:\", city.LivingBeing.equivalent_to_expressions)  # empty\n",
    "print(\"\\nDisjoint with:\", city.LivingBeing.disjoint_with_expressions)  # empty"
   ]
  },
  {
   "cell_type": "markdown",
   "metadata": {},
   "source": [
    "## Operations specific to ontology relationships\n",
    "\n",
    "You can access the inverse, the domain and the range of relationships."
   ]
  },
  {
   "cell_type": "code",
   "execution_count": 6,
   "metadata": {},
   "outputs": [
    {
     "name": "stdout",
     "output_type": "stream",
     "text": [
      "\n",
      "You can get the inverse of a relationship\n",
      "CITY.IS_INHABITANT_OF\n",
      "\n",
      "You can get the characteristics of a relationship\n",
      "['transitive']\n",
      "\n",
      "You can get the domain and range of a relationship\n",
      "[]\n",
      "[]\n"
     ]
    }
   ],
   "source": [
    "print(\"\\nYou can get the inverse of a relationship\")\n",
    "print(city.HasInhabitant.inverse)\n",
    "\n",
    "print(\"\\nYou can get the characteristics of a relationship\")\n",
    "print(city.HasPart.characteristics)\n",
    "\n",
    "print(\"\\nYou can get the domain and range of a relationship\")\n",
    "print(city.HasPart.domain_expressions)  # empty\n",
    "print(city.HasPart.range_expressions)  # empty"
   ]
  },
  {
   "cell_type": "markdown",
   "metadata": {},
   "source": [
    "## Operations specific to attributes\n",
    "\n",
    "You can acces the datatype and the argument name of attributes."
   ]
  },
  {
   "cell_type": "code",
   "execution_count": 7,
   "metadata": {},
   "outputs": [
    {
     "name": "stdout",
     "output_type": "stream",
     "text": [
      "\n",
      "You can get the argument name of an attribute. The argument name is used when instantiating CUDS objects\n",
      "age\n",
      "\n",
      "You can get the datatype of attributes\n",
      "INT\n",
      "\n",
      "You can use the attribute to convert values to the datatype of the attribute\n",
      "10\n"
     ]
    }
   ],
   "source": [
    "print(\"\\nYou can get the argument name of an attribute. \"\n",
    "      \"The argument name is used when instantiating CUDS objects\")\n",
    "print(city.Age.argname)\n",
    "\n",
    "print(\"\\nYou can get the datatype of attributes\")\n",
    "print(city.Age.datatype)\n",
    "\n",
    "print(\"\\nYou can use the attribute to convert values \"\n",
    "      \"to the datatype of the attribute\")\n",
    "print(city.Age(\"10\"))"
   ]
  },
  {
   "cell_type": "markdown",
   "metadata": {},
   "source": [
    "## CUDS\n",
    "\n",
    "You can use ontology classes to create CUDS objects."
   ]
  },
  {
   "cell_type": "code",
   "execution_count": 8,
   "metadata": {},
   "outputs": [
    {
     "name": "stdout",
     "output_type": "stream",
     "text": [
      "\n",
      "You can instantiate CUDS objects using ontology classes\n",
      "CITY.CITIZEN: b42eaaaa-8c05-4769-8362-3494bed82e30\n",
      "Take a look at api_example.py for a description of the CUDS API\n",
      "\n",
      "You can check if a CUDS object is an instace of a ontology class\n",
      "True\n",
      "True\n",
      "\n",
      "You can get the ontology class of a CUDS object.\n",
      "CITY.CITIZEN\n"
     ]
    }
   ],
   "source": [
    "print(\"\\nYou can instantiate CUDS objects using ontology classes\")\n",
    "print(city.Citizen(name=\"Test Person\", age=42))\n",
    "print(\"Take a look at api_example.py for a description of the CUDS API\")\n",
    "\n",
    "print(\"\\nYou can check if a CUDS object is an instace of a ontology class\")\n",
    "print(city.Citizen(name=\"Test Person\", age=42).is_a(city.Citizen))\n",
    "print(city.Citizen(name=\"Test Person\", age=42).is_a(city.LivingBeing))\n",
    "\n",
    "print(\"\\nYou can get the ontology class of a CUDS object.\")\n",
    "print(city.Citizen(name=\"Test Person\", age=42).oclass)\n"
   ]
  },
  {
   "cell_type": "markdown",
   "metadata": {},
   "source": [
    "## Namespace registry\n",
    "\n",
    "All namespaces are stored in a namespace registry (singleton). With the namespace registry, you can access the individual namespaces, using index or dot notation."
   ]
  },
  {
   "cell_type": "code",
   "execution_count": 9,
   "metadata": {},
   "outputs": [
    {
     "name": "stdout",
     "output_type": "stream",
     "text": [
      "\n",
      "All namespaces are stored in the namespace registry\n",
      "<osp.core.ontology.namespace_registry.NamespaceRegistry object at 0x7fafc88b12b0>\n",
      "\n",
      "You can access the namespaces using dot or index notation\n",
      "<osp.core.ontology.namespace.OntologyNamespace object at 0x7faf99e3b0d0>\n",
      "<osp.core.ontology.namespace.OntologyNamespace object at 0x7faf99e3b0d0>\n"
     ]
    }
   ],
   "source": [
    "# NAMESPACE_REGISTRY\n",
    "from osp.core import ONTOLOGY_NAMESPACE_REGISTRY as namespace_reg  # noqa: E402\n",
    "\n",
    "print(\"\\nAll namespaces are stored in the namespace registry\")\n",
    "print(namespace_reg)\n",
    "\n",
    "print(\"\\nYou can access the namespaces using dot or index notation\")\n",
    "print(namespace_reg.city)\n",
    "print(namespace_reg[\"city\"])\n"
   ]
  },
  {
   "cell_type": "code",
   "execution_count": null,
   "metadata": {},
   "outputs": [],
   "source": []
  }
 ],
 "metadata": {
  "kernelspec": {
   "display_name": "Python 3",
   "language": "python",
   "name": "python3"
  },
  "language_info": {
   "codemirror_mode": {
    "name": "ipython",
    "version": 3
   },
   "file_extension": ".py",
   "mimetype": "text/x-python",
   "name": "python",
   "nbconvert_exporter": "python",
   "pygments_lexer": "ipython3",
   "version": "3.8.0"
  }
 },
 "nbformat": 4,
 "nbformat_minor": 2
}