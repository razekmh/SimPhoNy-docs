{
 "cells": [
  {
   "cell_type": "markdown",
   "id": "boxed-professional",
   "metadata": {},
   "source": [
    "# Tutorial: Import and Export"
   ]
  },
  {
   "cell_type": "markdown",
   "id": "operational-honey",
   "metadata": {},
   "source": [
    "In this tutorial we will be covering the import and export capabilities of OSP-core. The utility functions that provide these functionalities are `import_cuds` and `export_cuds`, respectively."
   ]
  },
  {
   "cell_type": "markdown",
   "id": "qualified-works",
   "metadata": {},
   "source": [
    "<div class=\"admonition important\">\n",
    "    <div class\"admonition-title\">**Tip**</div>\n",
    "    The full API specifictions of the import and export functions can be found in the [utilities API reference page](../api_ref.md).\n",
    "</div>"
   ]
  },
  {
   "source": [
    "For our running example, we'll be using the *city ontology* that was already introduces in the [cuds API tutorial](./cuds_api.ipynb). We first import the necessary entities into our Python code:"
   ],
   "cell_type": "markdown",
   "metadata": {}
  },
  {
   "cell_type": "code",
   "execution_count": null,
   "metadata": {},
   "outputs": [],
   "source": [
    "from osp.core.namespaces import city\n",
    "from osp.core.utils import import_cuds, export_cuds"
   ]
  },
  {
   "source": [],
   "cell_type": "markdown",
   "metadata": {}
  }
 ],
 "metadata": {
  "kernelspec": {
   "display_name": "Python 3",
   "language": "python",
   "name": "python3"
  }
 },
 "nbformat": 4,
 "nbformat_minor": 5
}