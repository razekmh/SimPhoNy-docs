{
 "cells": [
  {
   "cell_type": "markdown",
   "id": "boxed-professional",
   "metadata": {},
   "source": [
    "# Tutorial: Import and export"
   ]
  },
  {
   "cell_type": "markdown",
   "id": "operational-honey",
   "metadata": {},
   "source": [
    "<figure style=\"display: table; text-align:center; margin-left: auto; margin-right:auto\">\n",
    "    \n",
    "[![Binder](https://mybinder.org/badge_logo.svg)](https://mybinder.org/v2/gh/simphony/docs/master?filepath=docs%2Fsource%2Fjupyter%2Fimport_export.ipynb \\\"Click to run the tutorial yourself!\\\")\n",
    "    \n",
    "</figure>\n",
    "\n",
    "In this tutorial we will be covering the import and export capabilities of OSP-core. The utility functions that provide these functionalities are `import_cuds` and `export_cuds`, respectively."
   ]
  },
  {
   "cell_type": "markdown",
   "id": "qualified-works",
   "metadata": {},
   "source": [
    "<div class=\"admonition important\">\n",
    "<div class=\"admonition-title\" style=\"font-weight: bold\"><div style=\"display: inline-block\">Tip</div></div>\n",
    "The full API specifictions of the import and export functions can be found in the\n",
    "[utilities API reference page](../api_ref.html#osp.core.utils.export_cuds).\n",
    "</div>\n",
    "</div>\n"
   ]
  },
  {
   "cell_type": "markdown",
   "id": "driving-injury",
   "metadata": {},
   "source": [
    "For our running example, we'll be using the *city ontology* that was already introduces in the [cuds API tutorial](./cuds_api.html). First, let's create a few CUDS objects:"
   ]
  },
  {
   "cell_type": "code",
   "execution_count": 1,
   "id": "considered-leonard",
   "metadata": {},
   "outputs": [
    {
     "data": {
      "text/plain": [
       "<city.Citizen: 2b5d0a3f-81a5-4746-aab9-40adcb65e71f,  CoreSession: @0x261546f0eb0>"
      ]
     },
     "execution_count": 1,
     "metadata": {},
     "output_type": "execute_result"
    }
   ],
   "source": [
    "from osp.core.namespaces import city\n",
    "\n",
    "c = city.City(name=\"Freiburg\", coordinates=[47, 7])\n",
    "p1 = city.Citizen(name=\"Peter\")\n",
    "p2 = city.Citizen(name=\"Anne\")\n",
    "c.add(p1, rel=city.hasInhabitant)\n",
    "c.add(p2, rel=city.hasInhabitant)"
   ]
  },
  {
   "cell_type": "markdown",
   "id": "worth-province",
   "metadata": {},
   "source": [
    "Now we can use the `export_cuds` methods to export the data into a file:"
   ]
  },
  {
   "cell_type": "code",
   "execution_count": 2,
   "id": "monthly-anxiety",
   "metadata": {},
   "outputs": [],
   "source": [
    "from osp.core.utils import export_cuds\n",
    "\n",
    "export_cuds(c, file='./data.ttl', format='turtle')"
   ]
  },
  {
   "cell_type": "markdown",
   "id": "determined-nursing",
   "metadata": {},
   "source": [
    "This will create the file `data.ttl` with the following content:"
   ]
  },
  {
   "cell_type": "code",
   "execution_count": 3,
   "id": "outstanding-wound",
   "metadata": {},
   "outputs": [
    {
     "name": "stdout",
     "output_type": "stream",
     "text": [
      "@prefix city: <http://www.osp-core.com/city#> .\n",
      "@prefix cuba: <http://www.osp-core.com/cuba#> .\n",
      "@prefix rdf: <http://www.w3.org/1999/02/22-rdf-syntax-ns#> .\n",
      "@prefix xsd: <http://www.w3.org/2001/XMLSchema#> .\n",
      "\n",
      "cuba:_serialization rdf:first \"d886f8ce-1326-40f5-a98b-c4c893b8c085\" .\n",
      "\n",
      "<http://www.osp-core.com/cuds#2b5d0a3f-81a5-4746-aab9-40adcb65e71f> a city:Citizen ;\n",
      "    city:INVERSE_OF_hasInhabitant <http://www.osp-core.com/cuds#d886f8ce-1326-40f5-a98b-c4c893b8c085> ;\n",
      "    city:age 25 ;\n",
      "    city:name \"Anne\" .\n",
      "\n",
      "<http://www.osp-core.com/cuds#766b320a-7e9a-43ec-a696-96b4f9ee494d> a city:Citizen ;\n",
      "    city:INVERSE_OF_hasInhabitant <http://www.osp-core.com/cuds#d886f8ce-1326-40f5-a98b-c4c893b8c085> ;\n",
      "    city:age 25 ;\n",
      "    city:name \"Peter\" .\n",
      "\n",
      "<http://www.osp-core.com/cuds#d886f8ce-1326-40f5-a98b-c4c893b8c085> a city:City ;\n",
      "    city:coordinates \"[47, 7]\"^^<http://www.osp-core.com/cuba#_datatypes/VECTOR-INT-2> ;\n",
      "    city:hasInhabitant <http://www.osp-core.com/cuds#2b5d0a3f-81a5-4746-aab9-40adcb65e71f>,\n",
      "        <http://www.osp-core.com/cuds#766b320a-7e9a-43ec-a696-96b4f9ee494d> ;\n",
      "    city:name \"Freiburg\" .\n",
      "\n"
     ]
    }
   ],
   "source": [
    "from sys import platform\n",
    "\n",
    "if platform == 'win32':\n",
    "    !more data.ttl\n",
    "else:\n",
    "    !cat data.ttl"
   ]
  },
  {
   "cell_type": "markdown",
   "id": "offshore-cotton",
   "metadata": {},
   "source": [
    "You can change the format by entering a different value for the parameter `format`. The supported formats are “xml”, “n3”, “turtle”, “nt”, “pretty-xml”, “trix”, “trig” and “nquads”."
   ]
  },
  {
   "cell_type": "markdown",
   "id": "derived-advancement",
   "metadata": {},
   "source": [
    "To import data, we can use the `import` method. Let's assume we wish to import data into an SQLite session. The following code will help us to achieve our aim:"
   ]
  },
  {
   "cell_type": "code",
   "execution_count": 4,
   "id": "stable-session",
   "metadata": {},
   "outputs": [],
   "source": [
    "from osp.wrappers.sqlite import SqliteSession\n",
    "from osp.core.utils import import_cuds\n",
    "\n",
    "with SqliteSession(\"test.db\") as session:\n",
    "    wrapper = city.CityWrapper(session=session)\n",
    "    c = import_cuds('./data.ttl')\n",
    "    wrapper.add(c)\n",
    "    session.commit()"
   ]
  },
  {
   "cell_type": "markdown",
   "id": "unable-copyright",
   "metadata": {},
   "source": []
  },
  {
   "cell_type": "markdown",
   "id": "higher-short",
   "metadata": {},
   "source": [
    "Now we can verify the data was indeed imported:"
   ]
  },
  {
   "cell_type": "code",
   "execution_count": 5,
   "id": "suspended-albert",
   "metadata": {},
   "outputs": [
    {
     "name": "stdout",
     "output_type": "stream",
     "text": [
      "- Cuds object:\n",
      "  uid: 064d9794-a12d-4331-9821-44f0538ed48a\n",
      "  type: city.CityWrapper\n",
      "  superclasses: city.CityWrapper, cuba.Entity, cuba.Wrapper\n",
      "  description: \n",
      "    To Be Determined\n",
      "\n",
      "   |_Relationship city.hasPart:\n",
      "     -  city.City cuds object named <Freiburg>:\n",
      "     .  uid: 72595bc4-1b68-46a3-97e9-8f3de2650f2c\n",
      "     .  coordinates: [47  7]\n",
      "     .   |_Relationship city.hasInhabitant:\n",
      "     .     -  city.Citizen cuds object named <Anne>:\n",
      "     .     .  uid: 92a00459-0927-438c-a305-a26512ac7f03\n",
      "     .     .  age: 25\n",
      "     .     -  city.Citizen cuds object named <Peter>:\n",
      "     .        uid: 27d1e83b-4ee9-4f4f-adb5-0b01a3cc2c1b\n",
      "     .        age: 25\n",
      "     -  city.City cuds object named <Freiburg>:\n",
      "        uid: d886f8ce-1326-40f5-a98b-c4c893b8c085\n",
      "        coordinates: [47  7]\n",
      "         |_Relationship city.hasInhabitant:\n",
      "           -  city.Citizen cuds object named <Anne>:\n",
      "           .  uid: 2b5d0a3f-81a5-4746-aab9-40adcb65e71f\n",
      "           .  age: 25\n",
      "           -  city.Citizen cuds object named <Peter>:\n",
      "              uid: 766b320a-7e9a-43ec-a696-96b4f9ee494d\n",
      "              age: 25\n"
     ]
    }
   ],
   "source": [
    "from osp.core.utils import pretty_print\n",
    "\n",
    "with SqliteSession(\"test.db\") as session:\n",
    "    wrapper = city.CityWrapper(session=session)\n",
    "    pretty_print(wrapper) "
   ]
  },
  {
   "cell_type": "markdown",
   "id": "virgin-river",
   "metadata": {},
   "source": [
    "<div class=\"admonition important\">\n",
    "<div class=\"admonition-title\" style=\"font-weight: bold\"><div style=\"display: inline-block\">Notes</div></div>\n",
    "    \n",
    "1. The format is automatically inferred from the file extension. To specify it explicitly, you can add the `format` parameter, like so: `import_cuds('./data.ttl', format='turtle')`.\n",
    "1. The `session` parameter is optional and inferred automatically from the context that created by the `with` statement (see the  [tutorial on multiple wrappers](./multiple_wrappers.html) for more information). You can specify the session explicitly like so: `import_cuds('./data.ttl', session=session)`.\n",
    "</div>"
   ]
  }
 ],
 "metadata": {
  "kernelspec": {
   "display_name": "Python 3.7.4 64-bit",
   "language": "python",
   "name": "python37464bit7e5bfc198a4544d1be12f13215aed90d"
  },
  "language_info": {
   "codemirror_mode": {
    "name": "ipython",
    "version": 3
   },
   "file_extension": ".py",
   "mimetype": "text/x-python",
   "name": "python",
   "nbconvert_exporter": "python",
   "pygments_lexer": "ipython3",
   "version": "3.8.5"
  },
  "metadata": {
   "interpreter": {
    "hash": "301cd6007de04cbbf15bca26f0bc1cb48004d089278091d760363de622bdd0c8"
   }
  }
 },
 "nbformat": 4,
 "nbformat_minor": 5
}