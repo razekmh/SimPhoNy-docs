{
 "cells": [
  {
   "cell_type": "markdown",
   "metadata": {},
   "source": [
    "# Tutorial 07: Wrapper development\n",
    "In this tutorial we will implement a very simple simulation wrapper.\n",
    "It can be used to understand which methods need to be implemented, and how.\n",
    "The source files used can be found [here](https://github.com/simphony/wrapper-development).\n",
    "\n",
    "## Background\n",
    "Wrappers are the way to extend SimPhoNy to support other back-ends. For an in-depth explanation, you can go to the [wrapper development section](../wrapper_development.md) of the documentation. Here we will explain with more detail the methods that have to be implemented.\n",
    "\n",
    "## Requirements\n",
    "In order to run this code, you need to have the simple_ontology available [here](https://github.com/simphony/wrapper-development/blob/master/osp/wrappers/simple_simulation/simple_ontology.ontology.yml).\n",
    "\n",
    "Remember, once you have OSP-core installed, and the file locally, you can simply run `pico install <path/to/ontology_file.yml>`"
   ]
  },
  {
   "cell_type": "markdown",
   "metadata": {},
   "source": [
    "## Let's get hands on\n",
    "### Syntactic layer\n",
    "As you know, SimPhoNy consists of 3 layers, with the wrappers being relevant in the last 2 (interoperability and syntactic layers).\n",
    "The syntactic layer talks directly to the back-end in a way that it can be understood.\n",
    "Since this wrapper aims to be as minimalistic as possible (while still being meaningfull),\n",
    "we have created a dummy syntactic layer that emulates talking to a simulation tool.\n",
    "\n",
    "_Note:_ In order to reduce the amount of code, the docstrings hav been erased. You can refer to the [source file](https://github.com/simphony/wrapper-development/blob/master/osp/wrappers/simple_simulation/simulation_engine.py) for the complete information."
   ]
  },
  {
   "cell_type": "code",
   "execution_count": null,
   "metadata": {},
   "outputs": [],
   "source": [
    "# This is the representation of an atom in the \"engine\"\n",
    "class Atom():\n",
    "\n",
    "    def __init__(self, position, velocity):\n",
    "        self.position = position\n",
    "        self.velocity = velocity"
   ]
  },
  {
   "cell_type": "code",
   "execution_count": null,
   "metadata": {},
   "outputs": [],
   "source": [
    "# This engine only works with atoms, setting/getting their position and velocities\n",
    "class SimulationEngine:\n",
    "    def __init__(self):\n",
    "        self.atoms = list()\n",
    "        print(\"Engine instantiated!\")\n",
    "\n",
    "    def __str__(self):\n",
    "        return \"Some Engine Connection\"\n",
    "\n",
    "    def run(self, timesteps=1):\n",
    "        print(\"Now the engine is running\")\n",
    "        for atom in self.atoms:\n",
    "            atom.position += atom.velocity * timesteps\n",
    "\n",
    "    def add_atom(self, position, velocity):\n",
    "        print(\"Add atom %s with position %s and velocity %s\"\n",
    "              % (len(self.atoms), position, velocity))\n",
    "        self.atoms.append(Atom(position, velocity))\n",
    "\n",
    "    def update_position(self, idx, position):\n",
    "        print(\"Update atom %s. Setting position to %s\"\n",
    "              % (idx, position))\n",
    "        self.atoms[idx].position = position\n",
    "\n",
    "    def update_velocity(self, idx, velocity):\n",
    "        print(\"Update atom %s. Setting velocity to %s\"\n",
    "              % (idx, velocity))\n",
    "        self.atoms[idx].velocity = velocity\n",
    "\n",
    "    def get_velocity(self, idx):\n",
    "        return self.atoms[idx].velocity\n",
    "\n",
    "    def get_position(self, idx):\n",
    "        return self.atoms[idx].position\n"
   ]
  },
  {
   "cell_type": "markdown",
   "metadata": {},
   "source": [
    "### Interoperability layer\n",
    "Since a lot of 3rd-party tools come with a syntactic layer, the bulk of the work when developping a wrapper for SimPhoNy is here.\n",
    "\n",
    "We will explain step by step all the code required.\n",
    "\n",
    "First, we import the parent Simulation Wrapper Session and the namespace (ontology). The engine is not necessary since it is in the previous codebock."
   ]
  },
  {
   "cell_type": "code",
   "execution_count": 2,
   "metadata": {},
   "outputs": [],
   "source": [
    "from osp.core.session import SimWrapperSession\n",
    "# from osp.wrappers.simple_simulation import SimulationEngine\n",
    "from osp.core.namespaces import simple_ontology "
   ]
  },
  {
   "cell_type": "markdown",
   "metadata": {},
   "source": [
    "Next, we will go through each of the methods. \n",
    "\n",
    "Note that to be able to break the class into multiple blocks, we will use inheritance, to add a method each time.\n",
    "In truth, all the definitions should go under one same `class` directive."
   ]
  },
  {
   "cell_type": "markdown",
   "metadata": {},
   "source": [
    "The first method is the `__init__`. This method is called when a new object is instantiated.\n",
    "Here we will call the `__init__` method of the parent class and initialise the necessary elements.\n",
    "\n",
    "Most simulation engines will have an internal way to keep track of, for example, particles.\n",
    "To make sure that the entities in the semantic layer are properly synched, we usually use a _mapper_.\n",
    "This could be anything from a list or dictionary to a more complex and sofisticated data structure."
   ]
  },
  {
   "cell_type": "code",
   "execution_count": 3,
   "metadata": {},
   "outputs": [],
   "source": [
    "class SimpleSimulationSession(SimWrapperSession):\n",
    "\n",
    "    def __init__(self, engine=None, **kwargs):\n",
    "        super().__init__(engine or SimulationEngine(), **kwargs)\n",
    "        self.mapper = dict()  # maps uuid to index in the backend\n"
   ]
  },
  {
   "cell_type": "markdown",
   "metadata": {},
   "source": [
    "Next comes the output to the `str()` method.\n",
    "It will be a string returned in `__str__(self)`."
   ]
  },
  {
   "cell_type": "code",
   "execution_count": 4,
   "metadata": {},
   "outputs": [],
   "source": [
    "class SimpleSimulationSession(SimpleSimulationSession):\n",
    "\n",
    "    def __str__(self):\n",
    "        return \"Simple sample Wrapper Session\"\n"
   ]
  },
  {
   "cell_type": "markdown",
   "metadata": {},
   "source": [
    "When the `run()` or `commit()` method is called on the session, all the objects that have been added since the last run have to be sent to the back end.\n",
    "This is done through `_apply_added(self, root_obj, buffer)`.\n",
    "The method should iterate through all the entities in the buffer and trigger different actions depending on which type of entity it is.\n",
    "\n",
    "Remember that we can check the type using the `is_a` method, or querying for the `oclass` attribute of an entity.\n",
    "\n",
    "In this example, we will only contact the back end if an atom has been added.\n",
    "However, normal wrappers will have a lot more comparisons (`if` and `elif`) to determine which entity it is and act accordingly"
   ]
  },
  {
   "cell_type": "code",
   "execution_count": 5,
   "metadata": {},
   "outputs": [],
   "source": [
    "class SimpleSimulationSession(SimpleSimulationSession):\n",
    "\n",
    "    # OVERRIDE\n",
    "    def _apply_added(self, root_obj, buffer):\n",
    "        \"\"\"Adds the added cuds to the engine.\"\"\"\n",
    "        for obj in buffer.values():\n",
    "            if obj.is_a(simple_ontology.Atom):\n",
    "                # Add the atom to the mapper\n",
    "                self.mapper[obj.uid] = len(self.mapper)\n",
    "                pos = obj.get(oclass=simple_ontology.Position)[0].value\n",
    "                vel = obj.get(oclass=simple_ontology.Velocity)[0].value\n",
    "                self._engine.add_atom(pos, vel)"
   ]
  },
  {
   "cell_type": "markdown",
   "metadata": {},
   "source": []
  },
  {
   "cell_type": "code",
   "execution_count": 6,
   "metadata": {},
   "outputs": [],
   "source": [
    "class SimpleSimulationSession(SimpleSimulationSession):\n",
    "\n",
    "    # OVERRIDE\n",
    "    def _apply_updated(self, root_obj, buffer):\n",
    "        \"\"\"Updates the updated cuds in the engine.\"\"\"\n",
    "        for obj in buffer.values():\n",
    "\n",
    "            # case 1: we change the velocity\n",
    "            if obj.is_a(simple_ontology.Velocity):\n",
    "                atom = obj.get(rel=simple_ontology.isPartOf)[0]\n",
    "                idx = self.mapper[atom.uid]\n",
    "                self._engine.update_velocity(idx, obj.value)\n",
    "\n",
    "            # case 2: we change the position\n",
    "            elif obj.is_a(simple_ontology.Position):\n",
    "                atom = obj.get(rel=simple_ontology.isPartOf)[0]\n",
    "                idx = self.mapper[atom.uid]\n",
    "                self._engine.update_position(idx, obj.value)\n"
   ]
  },
  {
   "cell_type": "markdown",
   "metadata": {},
   "source": [
    "Similarly to the previous methods, `_apply_deleted` should remove entities from the engine.\n",
    "In this specific case we left it empty to simplify the code (both in the session and the engine classes)."
   ]
  },
  {
   "cell_type": "code",
   "execution_count": 7,
   "metadata": {},
   "outputs": [],
   "source": [
    "class SimpleSimulationSession(SimpleSimulationSession):\n",
    "    # OVERRIDE\n",
    "    def _apply_deleted(self, root_obj, buffer):\n",
    "        \"\"\"Deletes the deleted cuds from the engine.\"\"\""
   ]
  },
  {
   "cell_type": "markdown",
   "metadata": {},
   "source": []
  },
  {
   "cell_type": "code",
   "execution_count": 8,
   "metadata": {},
   "outputs": [],
   "source": [
    "class SimpleSimulationSession(SimpleSimulationSession):\n",
    "\n",
    "    # OVERRIDE\n",
    "    def _load_from_backend(self, uids, expired=None):\n",
    "        \"\"\"Loads the cuds object from the simulation engine\"\"\"\n",
    "        for uid in uids:\n",
    "            if uid in self._registry:\n",
    "                obj = self._registry.get(uid)\n",
    "\n",
    "                # check whether user wants to load a position\n",
    "                if obj.is_a(simple_ontology.Position):\n",
    "                    atom = obj.get(rel=simple_ontology.isPartOf)[0]\n",
    "                    idx = self.mapper[atom.uid]\n",
    "                    pos = self._engine.get_position(idx)\n",
    "                    obj.value = pos\n",
    "\n",
    "                # check whether user wants to load a velocity\n",
    "                elif obj.is_a(simple_ontology.Velocity):\n",
    "                    atom = obj.get(rel=simple_ontology.isPartOf)[0]\n",
    "                    idx = self.mapper[atom.uid]\n",
    "                    vel = self._engine.get_velocity(idx)\n",
    "                    obj.value = vel\n",
    "\n",
    "                yield obj"
   ]
  },
  {
   "cell_type": "code",
   "execution_count": 9,
   "metadata": {},
   "outputs": [],
   "source": [
    "class SimpleSimulationSession(SimpleSimulationSession):\n",
    "\n",
    "    # OVERRIDE\n",
    "    def _run(self, root_cuds_object):\n",
    "        \"\"\"Call the run command of the engine.\"\"\"\n",
    "        self._engine.run()\n"
   ]
  }
 ],
 "metadata": {
  "language_info": {
   "name": "python",
   "codemirror_mode": {
    "name": "ipython",
    "version": 3
   },
   "version": "3.7.5-final"
  },
  "orig_nbformat": 2,
  "file_extension": ".py",
  "mimetype": "text/x-python",
  "name": "python",
  "npconvert_exporter": "python",
  "pygments_lexer": "ipython3",
  "version": 3,
  "kernelspec": {
   "name": "python37564bitvenvvenvbd0fd6573f5f4e40af04d1a32ae4ddbe",
   "display_name": "Python 3.7.5 64-bit ('venv': venv)"
  }
 },
 "nbformat": 4,
 "nbformat_minor": 2
}