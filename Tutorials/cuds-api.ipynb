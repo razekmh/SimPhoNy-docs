{
 "cells": [
  {
   "cell_type": "markdown",
   "metadata": {},
   "source": [
    "# Tutorial 01: CUDS API\n",
    "\n",
    "This tutorial introduces the CUDS API.\n",
    "The code given here is based on [this](https://gitlab.cc-asp.fraunhofer.de/simphony/osp-core/blob/cuds-3.0/examples/api_example.py) [1] example."
   ]
  },
  {
   "attachments": {},
   "cell_type": "markdown",
   "metadata": {},
   "source": [
    "## Background\n",
    "\n",
    "CUDS stands for Common Universal Data Structure, and it is used to uniformly represent an ontological concept. In the python implementation of OSP core, it means that every ontological concept has is own python class that inherits from a common ancestor class, which is the `Cuds` class. \n",
    "\n",
    "Conceptually, we consider CUDS objects as containers. The content of a CUDS object consists of other CUDS objects. This means that a CUDS is a [recursive data structure](https://en.wikipedia.org/wiki/Recursive_data_type) [2]. There are various types of relationships between a container and its contained objects. We will see this later on.\n",
    "\n",
    "As a data structure, CUDS exposes an API that provides the functionalities *Create*, *Read*, *Update* and *Delete* (or simply [CRUD](https://en.wikipedia.org/wiki/Create,_read,_update_and_delete) [3]).\n",
    "Except *Create*, which is carried out by the class constructor, all the other functionalities are supported by the methods `add`, `get`, `remove`, `update` and `iter`, that are defined in the ancestor class `Cuds`. Here, we cover all of the methods except `update` since it is used to synchronize between two or more data sources, but here we only have one, that is the data we will create through our python code on the fly. Check out the [wrapper tutorial](#) [4] to see the `update` method in action."
   ]
  },
  {
   "cell_type": "markdown",
   "metadata": {},
   "source": [
    "## Let's get hands on\n",
    "We start by importing the CUDS classes. These are classes that were automatically generated from the [ontology](https://gitlab.cc-asp.fraunhofer.de/simphony/osp-core/blob/cuds-3.0/cuds/ontology/ontology.city.yml) [5]. There is [another tutorial](#) [6] on the ontology YAML file. However, it is not importanted for the purposes of this tutorial. "
   ]
  },
  {
   "cell_type": "code",
   "execution_count": 1,
   "metadata": {},
   "outputs": [],
   "source": [
    "import cuds.classes"
   ]
  },
  {
   "cell_type": "markdown",
   "metadata": {},
   "source": [
    "Let's create a CUDS object that represents the city Freiburg:"
   ]
  },
  {
   "cell_type": "code",
   "execution_count": 2,
   "metadata": {},
   "outputs": [],
   "source": [
    "c = cuds.classes.City(name=\"Freiburg\", coordinates=[47, 7])"
   ]
  },
  {
   "cell_type": "markdown",
   "metadata": {},
   "source": [
    "The variable `c` is assigned with a newly created CUDS object. This object was initialized with a name (Freiburg) and coordinates ([47, 7]). To understand why these two arguments were necessary, we'll have to take a look at the ontology. As before, this is explained the other tutorial."
   ]
  },
  {
   "cell_type": "markdown",
   "metadata": {},
   "source": [
    "Each CUDS object has a unique identifier (UID) which can be accessed:"
   ]
  },
  {
   "cell_type": "code",
   "execution_count": 3,
   "metadata": {},
   "outputs": [
    {
     "name": "stdout",
     "output_type": "stream",
     "text": [
      "uid of c: f659f5c9-20db-4c36-83a5-33604b12794a\n"
     ]
    }
   ],
   "source": [
    "print(\"uid of c: \" + str(c.uid))"
   ]
  },
  {
   "cell_type": "markdown",
   "metadata": {},
   "source": [
    "The type of an object can be queried as well:"
   ]
  },
  {
   "cell_type": "code",
   "execution_count": 4,
   "metadata": {},
   "outputs": [
    {
     "name": "stdout",
     "output_type": "stream",
     "text": [
      "type of c: <class 'cuds.classes.generated.city.City'>\n"
     ]
    }
   ],
   "source": [
    "print(\"type of c: \" + str(type(c)))"
   ]
  },
  {
   "cell_type": "markdown",
   "metadata": {},
   "source": [
    "Let's add two citizens to our city object:"
   ]
  },
  {
   "cell_type": "code",
   "execution_count": 5,
   "metadata": {},
   "outputs": [
    {
     "data": {
      "text/plain": [
       "{cuds.classes.generated.is_inhabitant_of.IsInhabitantOf: {UUID('f659f5c9-20db-4c36-83a5-33604b12794a'): <CUBA.CITY: 'CITY'>}}"
      ]
     },
     "execution_count": 5,
     "metadata": {},
     "output_type": "execute_result"
    }
   ],
   "source": [
    "p1 = cuds.classes.Citizen(name=\"Peter\")\n",
    "p2 = cuds.classes.Citizen(name=\"Anne\")\n",
    "c.add(p1, rel=cuds.classes.HasInhabitant)\n",
    "c.add(p2, rel=cuds.classes.HasInhabitant)"
   ]
  },
  {
   "cell_type": "markdown",
   "metadata": {},
   "source": [
    "Note that the relationship type between the city and its two citizens in this case are 'HasInhabitant'. In our context, this means that Peter (or Anne) is a Freiburg inhabitant."
   ]
  },
  {
   "cell_type": "markdown",
   "metadata": {},
   "source": [
    "Next, we would like to iterate over the objects contained in the city object. We do so by using the iter() function:\n"
   ]
  },
  {
   "cell_type": "code",
   "execution_count": 6,
   "metadata": {},
   "outputs": [
    {
     "name": "stdout",
     "output_type": "stream",
     "text": [
      "uid: 4822a0ea-ffcd-4be8-b04e-c3838bd8dd1d\n",
      "uid: 0147c0a0-8742-4c0f-a3d9-41bc099e781e\n"
     ]
    }
   ],
   "source": [
    "for el in c.iter():\n",
    "    print(\"uid: \" + str(el.uid))"
   ]
  },
  {
   "cell_type": "markdown",
   "metadata": {},
   "source": [
    "We can get an object from a container if we have a UID of one of its immediate contained objects:"
   ]
  },
  {
   "cell_type": "code",
   "execution_count": 7,
   "metadata": {},
   "outputs": [
    {
     "name": "stdout",
     "output_type": "stream",
     "text": [
      "CUBA.CITIZEN: 4822a0ea-ffcd-4be8-b04e-c3838bd8dd1d\n"
     ]
    }
   ],
   "source": [
    "print(c.get(p1.uid))"
   ]
  },
  {
   "cell_type": "markdown",
   "metadata": {},
   "source": [
    "We can also filter the contained objects by type: "
   ]
  },
  {
   "cell_type": "code",
   "execution_count": 8,
   "metadata": {},
   "outputs": [
    {
     "name": "stdout",
     "output_type": "stream",
     "text": [
      "[{<class 'cuds.classes.generated.is_inhabitant_of.IsInhabitantOf'>: {UUID('f659f5c9-20db-4c36-83a5-33604b12794a'): <CUBA.CITY: 'CITY'>}}, {<class 'cuds.classes.generated.is_inhabitant_of.IsInhabitantOf'>: {UUID('f659f5c9-20db-4c36-83a5-33604b12794a'): <CUBA.CITY: 'CITY'>}}]\n"
     ]
    }
   ],
   "source": [
    "print(c.get(cuba_key=cuds.classes.CUBA.CITIZEN))"
   ]
  },
  {
   "cell_type": "markdown",
   "metadata": {},
   "source": [
    "We remove objects using the remove() functions:"
   ]
  },
  {
   "cell_type": "code",
   "execution_count": 9,
   "metadata": {},
   "outputs": [],
   "source": [
    "c.remove(p1)\n",
    "# c.remove(p1.uid) also works!"
   ]
  },
  {
   "cell_type": "markdown",
   "metadata": {},
   "source": [
    "Let's close this tutorial by adding some neighbourhoods in a loop:"
   ]
  },
  {
   "cell_type": "code",
   "execution_count": 10,
   "metadata": {
    "scrolled": true
   },
   "outputs": [],
   "source": [
    "for i in range(6):\n",
    "    c.add(cuds.classes.Neighbourhood(name=\"neighbourhood %s\" % i))"
   ]
  },
  {
   "cell_type": "markdown",
   "metadata": {},
   "source": [
    "## References\n",
    "\n",
    "- [1] https://gitlab.cc-asp.fraunhofer.de/simphony/osp-core/blob/cuds-3.0/examples/api_example.py\n",
    "- [2] https://en.wikipedia.org/wiki/Recursive_data_type\n",
    "- [3] https://en.wikipedia.org/wiki/Create,_read,_update_and_delete\n",
    "- [4] https://gitlab.cc-asp.fraunhofer.de/simphony/getting-started/blob/master/Tutorials/02-multiple-wrappers.ipynb\n",
    "- [5] https://gitlab.cc-asp.fraunhofer.de/simphony/osp-core/blob/cuds-3.0/cuds/ontology/ontology.city.yml\n",
    "- [6] (To be completed)"
   ]
  },
  {
   "cell_type": "code",
   "execution_count": null,
   "metadata": {},
   "outputs": [],
   "source": []
  }
 ],
 "metadata": {
  "kernelspec": {
   "display_name": "Python 3",
   "language": "python",
   "name": "python3"
  },
  "language_info": {
   "codemirror_mode": {
    "name": "ipython",
    "version": 3
   },
   "file_extension": ".py",
   "mimetype": "text/x-python",
   "name": "python",
   "nbconvert_exporter": "python",
   "pygments_lexer": "ipython3",
   "version": "3.7.3"
  }
 },
 "nbformat": 4,
 "nbformat_minor": 2
}