{
 "cells": [
  {
   "cell_type": "markdown",
   "metadata": {},
   "source": [
    "# Tutorial 01: CUDS API\n",
    "\n",
    "This tutorial introduces the CUDS API.\n",
    "The code given here is based on [this](https://gitlab.cc-asp.fraunhofer.de/simphony/osp-core/blob/cuds-3.0/examples/api_example.py) [1] example."
   ]
  },
  {
   "cell_type": "markdown",
   "metadata": {},
   "source": [
    "## Background\n",
    "\n",
    "CUDS stands for Common Universal Data Structure, and it is used to uniformly represent an ontological individual. In the python implementation of OSP core, it means that every ontological individual is an instance of the `Cuds` class.\n",
    "\n",
    "Conceptually, we consider CUDS objects as containers. The content of a CUDS object consists of other CUDS objects. This means that a CUDS is a [recursive data structure](https://en.wikipedia.org/wiki/Recursive_data_type) [2]. There are various types of relationships between a container and its contained objects. We will see this later on.\n",
    "\n",
    "As a data structure, CUDS exposes an API that provides the functionalities *Create*, *Read*, *Update* and *Delete* (or simply [CRUD](https://en.wikipedia.org/wiki/Create,_read,_update_and_delete) [3]).\n",
    "Except *Create*, all the other functionalities are supported by the methods `add`, `get`, `remove`, `update` and `iter`, that are defined in the class `Cuds`. Here, we cover all of the methods except `update` since it is used to synchronize between two or more data sources, but here we only have one, that is the data we will create through our python code on the fly. Check out the [wrapper tutorial](#) [4] to see the `update` method in action.\n",
    "\n",
    "Every CUDS object is related to an ontological concept via the ontological `is a` relation. In the python implementation of OSP-core, all ontological concepts are instances of the `OntologyEntity` class. The ontological concept that can be used to *Create* CUDS objects are instances of `OntologyClass`, a subclass of `OntologyEntity`. The ontological\n",
    "concepts are organized in namespaces.\n"
   ]
  },
  {
   "cell_type": "markdown",
   "metadata": {},
   "source": [
    "## Let's get hands on\n",
    "We start by importing the example namespace from osp-core. It consists of concepts that were automatically generated from the [ontology](https://gitlab.cc-asp.fraunhofer.de/simphony/osp-core/blob/cuds-3.0/cuds/ontology/ontology.city.yml) [5]. There is [another tutorial](#) [6] on the ontology YAML file. However, it is not important for the purposes of this tutorial. "
   ]
  },
  {
   "cell_type": "code",
   "execution_count": 1,
   "metadata": {},
   "outputs": [],
   "source": [
    "# If you did not install the CITY ontology (osp_core$ python setup.py install -o city), you have to execute these commands first:\n",
    "# from osp.core import Parser\n",
    "# p = Parser()\n",
    "# p.parse(\"city\")\n",
    "\n",
    "from osp.core import CITY"
   ]
  },
  {
   "cell_type": "markdown",
   "metadata": {},
   "source": [
    "Let's create a CUDS object that represents the city Freiburg:"
   ]
  },
  {
   "cell_type": "code",
   "execution_count": 2,
   "metadata": {},
   "outputs": [],
   "source": [
    "c = CITY.CITY(name=\"Freiburg\", coordinates=[47, 7])"
   ]
  },
  {
   "cell_type": "markdown",
   "metadata": {},
   "source": [
    "The variable `c` is assigned with a newly created CUDS object. This object was initialized with a name (Freiburg) and coordinates ([47, 7]). To understand why these two arguments were necessary, we'll have to take a look at the ontology. As before, this is explained the other tutorial."
   ]
  },
  {
   "cell_type": "markdown",
   "metadata": {},
   "source": [
    "Each CUDS object has a unique identifier (UID) which can be accessed:"
   ]
  },
  {
   "cell_type": "code",
   "execution_count": 3,
   "metadata": {},
   "outputs": [
    {
     "name": "stdout",
     "output_type": "stream",
     "text": [
      "uid of c: efb005b4-c830-4791-a00f-7cc400259436\n"
     ]
    }
   ],
   "source": [
    "print(\"uid of c: \" + str(c.uid))"
   ]
  },
  {
   "cell_type": "markdown",
   "metadata": {},
   "source": [
    "The type of an object can be queried as well:"
   ]
  },
  {
   "cell_type": "code",
   "execution_count": 4,
   "metadata": {},
   "outputs": [
    {
     "name": "stdout",
     "output_type": "stream",
     "text": [
      "type of c: CITY.CITY\n"
     ]
    }
   ],
   "source": [
    "print(\"type of c: \" + str(c.oclass))"
   ]
  },
  {
   "cell_type": "markdown",
   "metadata": {},
   "source": [
    "Let's add two citizens to our city object:"
   ]
  },
  {
   "cell_type": "code",
   "execution_count": 5,
   "metadata": {},
   "outputs": [
    {
     "data": {
      "text/plain": [
       "<CITY.CITIZEN: 192b50d6-9235-4214-91a8-f0669ac7ac18,  CoreSession: @0x7f4cd6f5e610>"
      ]
     },
     "execution_count": 5,
     "metadata": {},
     "output_type": "execute_result"
    }
   ],
   "source": [
    "p1 = CITY.CITIZEN(name=\"Peter\")\n",
    "p2 = CITY.CITIZEN(name=\"Anne\")\n",
    "c.add(p1, rel=CITY.HAS_INHABITANT)\n",
    "c.add(p2, rel=CITY.HAS_INHABITANT)"
   ]
  },
  {
   "cell_type": "markdown",
   "metadata": {},
   "source": [
    "Note that the relationship type between the city and its two citizens in this case are 'HAS_INHABITANT'. In our context, this means that Peter (or Anne) is a Freiburg inhabitant."
   ]
  },
  {
   "cell_type": "markdown",
   "metadata": {},
   "source": [
    "Next, we would like to iterate over the objects contained in the city object. We do so by using the iter() function:\n"
   ]
  },
  {
   "cell_type": "code",
   "execution_count": 6,
   "metadata": {},
   "outputs": [
    {
     "name": "stdout",
     "output_type": "stream",
     "text": [
      "uid: f34cb649-d25a-46fe-8e43-c35e2746f8cf\n",
      "uid: 192b50d6-9235-4214-91a8-f0669ac7ac18\n"
     ]
    }
   ],
   "source": [
    "for el in c.iter():\n",
    "    print(\"uid: \" + str(el.uid))"
   ]
  },
  {
   "cell_type": "markdown",
   "metadata": {},
   "source": [
    "We can get an object from a container if we have a UID of one of its immediate contained objects:"
   ]
  },
  {
   "cell_type": "code",
   "execution_count": 7,
   "metadata": {},
   "outputs": [
    {
     "name": "stdout",
     "output_type": "stream",
     "text": [
      "CITY.CITIZEN: f34cb649-d25a-46fe-8e43-c35e2746f8cf\n"
     ]
    }
   ],
   "source": [
    "print(c.get(p1.uid))"
   ]
  },
  {
   "cell_type": "markdown",
   "metadata": {},
   "source": [
    "We can also filter the contained objects by type: "
   ]
  },
  {
   "cell_type": "code",
   "execution_count": 8,
   "metadata": {},
   "outputs": [
    {
     "name": "stdout",
     "output_type": "stream",
     "text": [
      "[<CITY.CITIZEN: f34cb649-d25a-46fe-8e43-c35e2746f8cf,  CoreSession: @0x7f4cd6f5e610>, <CITY.CITIZEN: 192b50d6-9235-4214-91a8-f0669ac7ac18,  CoreSession: @0x7f4cd6f5e610>]\n"
     ]
    }
   ],
   "source": [
    "print(c.get(oclass=CITY.CITIZEN))"
   ]
  },
  {
   "cell_type": "markdown",
   "metadata": {},
   "source": [
    "We remove objects using the remove() functions:"
   ]
  },
  {
   "cell_type": "code",
   "execution_count": 9,
   "metadata": {},
   "outputs": [],
   "source": [
    "c.remove(p1)\n",
    "# c.remove(p1.uid) also works!"
   ]
  },
  {
   "cell_type": "markdown",
   "metadata": {},
   "source": [
    "Let's close this tutorial by adding some neighbourhoods in a loop:"
   ]
  },
  {
   "cell_type": "code",
   "execution_count": 10,
   "metadata": {},
   "outputs": [],
   "source": [
    "for i in range(6):\n",
    "    c.add(CITY.NEIGHBOURHOOD(name=\"neighbourhood %s\" % i))"
   ]
  },
  {
   "cell_type": "markdown",
   "metadata": {},
   "source": [
    "## References\n",
    "\n",
    "- [1] https://gitlab.cc-asp.fraunhofer.de/simphony/osp-core/blob/cuds-3.0/examples/api_example.py\n",
    "- [2] https://en.wikipedia.org/wiki/Recursive_data_type\n",
    "- [3] https://en.wikipedia.org/wiki/Create,_read,_update_and_delete\n",
    "- [4] https://gitlab.cc-asp.fraunhofer.de/simphony/getting-started/blob/master/Tutorials/02-multiple-wrappers.ipynb\n",
    "- [5] https://gitlab.cc-asp.fraunhofer.de/simphony/osp-core/blob/cuds-3.0/cuds/ontology/ontology.city.yml\n",
    "- [6] (To be completed)"
   ]
  },
  {
   "cell_type": "code",
   "execution_count": null,
   "metadata": {},
   "outputs": [],
   "source": []
  }
 ],
 "metadata": {
  "kernelspec": {
   "display_name": "Python 3",
   "language": "python",
   "name": "python3"
  },
  "language_info": {
   "codemirror_mode": {
    "name": "ipython",
    "version": 3
   },
   "file_extension": ".py",
   "mimetype": "text/x-python",
   "name": "python",
   "nbconvert_exporter": "python",
   "pygments_lexer": "ipython3",
   "version": "3.8.0"
  }
 },
 "nbformat": 4,
 "nbformat_minor": 2
}
